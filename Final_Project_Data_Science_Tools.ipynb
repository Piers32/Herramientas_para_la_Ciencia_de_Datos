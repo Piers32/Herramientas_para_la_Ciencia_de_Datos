{
 "cells": [
  {
   "cell_type": "markdown",
   "id": "15daf1ab",
   "metadata": {},
   "source": [
    "# Data Science Tools and Ecosystem"
   ]
  },
  {
   "cell_type": "markdown",
   "id": "532efa70",
   "metadata": {},
   "source": [
    "In this notebook, Data Science Tools and Ecosystem are summarized."
   ]
  },
  {
   "cell_type": "markdown",
   "id": "2f26a9b6",
   "metadata": {},
   "source": [
    "## Some of the popular languages that Data Scientists use are:\n",
    "\n",
    "1. Python  \n",
    "2. R  \n",
    "3. SQL  \n",
    "4. Java  \n",
    "5. Julia"
   ]
  },
  {
   "cell_type": "markdown",
   "id": "afe38091",
   "metadata": {},
   "source": [
    "## Some of the commonly used libraries used by Data Scientists include:\n",
    "\n",
    "- Pandas  \n",
    "- NumPy  \n",
    "- Matplotlib  \n",
    "- Scikit-learn  \n",
    "- TensorFlow  \n",
    "- ggplot2"
   ]
  },
  {
   "cell_type": "markdown",
   "id": "c2807837",
   "metadata": {},
   "source": [
    "| Data Science Tools     |\n",
    "|------------------------|\n",
    "| Jupyter Notebook       |\n",
    "| RStudio                |\n",
    "| Apache Zeppelin        |"
   ]
  },
  {
   "cell_type": "markdown",
   "id": "e4ed8318",
   "metadata": {},
   "source": [
    "### Below are a few examples of evaluating arithmetic expressions in Python:\n",
    "\n",
    "For example:  \n",
    "**3 + 5 * 2** is an arithmetic expression that multiplies 5 and 2 and then adds 3 to the result."
   ]
  },
  {
   "cell_type": "code",
   "execution_count": null,
   "id": "541a4c68",
   "metadata": {},
   "outputs": [],
   "source": [
    "# This is a simple arithmetic expression to multiply then add integers\n",
    "(3 * 4) + 5"
   ]
  },
  {
   "cell_type": "code",
   "execution_count": null,
   "id": "beabba8c",
   "metadata": {},
   "outputs": [],
   "source": [
    "# This will convert 200 minutes to hours by dividing by 60\n",
    "200 / 60"
   ]
  },
  {
   "cell_type": "code",
   "execution_count": null,
   "id": "c7c399e3",
   "metadata": {},
   "outputs": [],
   "source": [
    "# List objectives using print() function\n",
    "print(\"Objectives:\")\n",
    "print(\"- List popular languages for Data Science\")\n",
    "print(\"- List commonly used libraries\")\n",
    "print(\"- Demonstrate arithmetic expression in Python\")"
   ]
  },
  {
   "cell_type": "markdown",
   "id": "47186cb8",
   "metadata": {},
   "source": [
    "## Author  \n",
    "Alex Osvaldo Villarroel Antonio"
   ]
  },
  {
   "cell_type": "markdown",
   "id": "6aac213e",
   "metadata": {},
   "source": [
    "### GitHub Link  \n",
    "[Click here to access the notebook](https://github.com/tu_usuario/tu_repositorio/blob/main/Nombre_del_cuaderno.ipynb)"
   ]
  }
 ],
 "metadata": {},
 "nbformat": 4,
 "nbformat_minor": 5
}
